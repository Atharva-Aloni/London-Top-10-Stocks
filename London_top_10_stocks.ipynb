{
 "cells": [
  {
   "cell_type": "code",
   "execution_count": 31,
   "id": "40ed39aa-3d50-4a6a-90ef-f38a581313ae",
   "metadata": {},
   "outputs": [],
   "source": [
    "import yfinance as yf\n",
    "import pandas as pd\n",
    "import seaborn as sb\n",
    "import datetime as d\n",
    "from sklearn.model_selection import train_test_split\n",
    "from sklearn.linear_model import LinearRegression\n",
    "from sklearn.metrics import r2_score"
   ]
  },
  {
   "cell_type": "code",
   "execution_count": 2,
   "id": "6c24aac2-d3fd-4427-ab5c-52014ad876bc",
   "metadata": {},
   "outputs": [],
   "source": [
    "s = d.datetime(2024,1,1)\n",
    "e = d.datetime(2025,1,1)"
   ]
  },
  {
   "cell_type": "code",
   "execution_count": 3,
   "id": "9c9af1e0-4dd6-4e0c-8f1a-da2c3fc797b2",
   "metadata": {},
   "outputs": [
    {
     "name": "stderr",
     "output_type": "stream",
     "text": [
      "[*********************100%***********************]  1 of 1 completed\n"
     ]
    }
   ],
   "source": [
    "AZN = yf.download(\"AZN.L\",start = s,end = e)"
   ]
  },
  {
   "cell_type": "code",
   "execution_count": 4,
   "id": "b770f2ec-fbb1-43ad-a51f-c80dfdfb9825",
   "metadata": {},
   "outputs": [],
   "source": [
    "AZN['Symbol'] = 'AstraZeneca'"
   ]
  },
  {
   "cell_type": "code",
   "execution_count": 5,
   "id": "4ca6990c-0bf7-4162-abb9-e59087ea744d",
   "metadata": {},
   "outputs": [],
   "source": [
    "AZN.columns = AZN.columns.get_level_values(0)\n",
    "AZN = AZN.reset_index()"
   ]
  },
  {
   "cell_type": "code",
   "execution_count": 6,
   "id": "5941b54a-d9b6-40b5-bfcc-0c125239acbc",
   "metadata": {},
   "outputs": [
    {
     "data": {
      "text/plain": [
       "Index(['Date', 'Close', 'High', 'Low', 'Open', 'Volume', 'Symbol'], dtype='object', name='Price')"
      ]
     },
     "execution_count": 6,
     "metadata": {},
     "output_type": "execute_result"
    }
   ],
   "source": [
    "AZN.columns"
   ]
  },
  {
   "cell_type": "code",
   "execution_count": 9,
   "id": "8d1821b3-87d9-40d6-adc6-41a5143b1d4d",
   "metadata": {},
   "outputs": [
    {
     "data": {
      "text/html": [
       "<div>\n",
       "<style scoped>\n",
       "    .dataframe tbody tr th:only-of-type {\n",
       "        vertical-align: middle;\n",
       "    }\n",
       "\n",
       "    .dataframe tbody tr th {\n",
       "        vertical-align: top;\n",
       "    }\n",
       "\n",
       "    .dataframe thead th {\n",
       "        text-align: right;\n",
       "    }\n",
       "</style>\n",
       "<table border=\"1\" class=\"dataframe\">\n",
       "  <thead>\n",
       "    <tr style=\"text-align: right;\">\n",
       "      <th>Price</th>\n",
       "      <th>Date</th>\n",
       "      <th>Close</th>\n",
       "      <th>High</th>\n",
       "      <th>Low</th>\n",
       "      <th>Open</th>\n",
       "      <th>Volume</th>\n",
       "      <th>Symbol</th>\n",
       "    </tr>\n",
       "  </thead>\n",
       "  <tbody>\n",
       "    <tr>\n",
       "      <th>0</th>\n",
       "      <td>2024-01-02</td>\n",
       "      <td>10556.455078</td>\n",
       "      <td>10605.381918</td>\n",
       "      <td>10307.906729</td>\n",
       "      <td>10403.803336</td>\n",
       "      <td>1688733</td>\n",
       "      <td>AstraZeneca</td>\n",
       "    </tr>\n",
       "    <tr>\n",
       "      <th>1</th>\n",
       "      <td>2024-01-03</td>\n",
       "      <td>10509.485352</td>\n",
       "      <td>10577.982928</td>\n",
       "      <td>10397.932155</td>\n",
       "      <td>10456.644364</td>\n",
       "      <td>2972338</td>\n",
       "      <td>AstraZeneca</td>\n",
       "    </tr>\n",
       "    <tr>\n",
       "      <th>2</th>\n",
       "      <td>2024-01-04</td>\n",
       "      <td>10630.824219</td>\n",
       "      <td>10668.008619</td>\n",
       "      <td>10515.356872</td>\n",
       "      <td>10536.884682</td>\n",
       "      <td>1896074</td>\n",
       "      <td>AstraZeneca</td>\n",
       "    </tr>\n",
       "    <tr>\n",
       "      <th>3</th>\n",
       "      <td>2024-01-05</td>\n",
       "      <td>10527.099609</td>\n",
       "      <td>10609.296706</td>\n",
       "      <td>10484.043987</td>\n",
       "      <td>10525.142536</td>\n",
       "      <td>1161094</td>\n",
       "      <td>AstraZeneca</td>\n",
       "    </tr>\n",
       "    <tr>\n",
       "      <th>4</th>\n",
       "      <td>2024-01-08</td>\n",
       "      <td>10540.798828</td>\n",
       "      <td>10540.798828</td>\n",
       "      <td>10446.859292</td>\n",
       "      <td>10486.000765</td>\n",
       "      <td>1921363</td>\n",
       "      <td>AstraZeneca</td>\n",
       "    </tr>\n",
       "    <tr>\n",
       "      <th>...</th>\n",
       "      <td>...</td>\n",
       "      <td>...</td>\n",
       "      <td>...</td>\n",
       "      <td>...</td>\n",
       "      <td>...</td>\n",
       "      <td>...</td>\n",
       "      <td>...</td>\n",
       "    </tr>\n",
       "    <tr>\n",
       "      <th>249</th>\n",
       "      <td>2024-12-23</td>\n",
       "      <td>10422.000000</td>\n",
       "      <td>10466.000000</td>\n",
       "      <td>10304.000000</td>\n",
       "      <td>10308.000000</td>\n",
       "      <td>2737381</td>\n",
       "      <td>AstraZeneca</td>\n",
       "    </tr>\n",
       "    <tr>\n",
       "      <th>250</th>\n",
       "      <td>2024-12-24</td>\n",
       "      <td>10436.000000</td>\n",
       "      <td>10498.000000</td>\n",
       "      <td>10436.000000</td>\n",
       "      <td>10478.000000</td>\n",
       "      <td>754282</td>\n",
       "      <td>AstraZeneca</td>\n",
       "    </tr>\n",
       "    <tr>\n",
       "      <th>251</th>\n",
       "      <td>2024-12-27</td>\n",
       "      <td>10460.000000</td>\n",
       "      <td>10460.000000</td>\n",
       "      <td>10360.000000</td>\n",
       "      <td>10454.000000</td>\n",
       "      <td>1126432</td>\n",
       "      <td>AstraZeneca</td>\n",
       "    </tr>\n",
       "    <tr>\n",
       "      <th>252</th>\n",
       "      <td>2024-12-30</td>\n",
       "      <td>10408.000000</td>\n",
       "      <td>10482.000000</td>\n",
       "      <td>10360.000000</td>\n",
       "      <td>10450.000000</td>\n",
       "      <td>812636</td>\n",
       "      <td>AstraZeneca</td>\n",
       "    </tr>\n",
       "    <tr>\n",
       "      <th>253</th>\n",
       "      <td>2024-12-31</td>\n",
       "      <td>10468.000000</td>\n",
       "      <td>10470.000000</td>\n",
       "      <td>10319.423828</td>\n",
       "      <td>10334.000000</td>\n",
       "      <td>377953</td>\n",
       "      <td>AstraZeneca</td>\n",
       "    </tr>\n",
       "  </tbody>\n",
       "</table>\n",
       "<p>254 rows × 7 columns</p>\n",
       "</div>"
      ],
      "text/plain": [
       "Price       Date         Close          High           Low          Open  \\\n",
       "0     2024-01-02  10556.455078  10605.381918  10307.906729  10403.803336   \n",
       "1     2024-01-03  10509.485352  10577.982928  10397.932155  10456.644364   \n",
       "2     2024-01-04  10630.824219  10668.008619  10515.356872  10536.884682   \n",
       "3     2024-01-05  10527.099609  10609.296706  10484.043987  10525.142536   \n",
       "4     2024-01-08  10540.798828  10540.798828  10446.859292  10486.000765   \n",
       "..           ...           ...           ...           ...           ...   \n",
       "249   2024-12-23  10422.000000  10466.000000  10304.000000  10308.000000   \n",
       "250   2024-12-24  10436.000000  10498.000000  10436.000000  10478.000000   \n",
       "251   2024-12-27  10460.000000  10460.000000  10360.000000  10454.000000   \n",
       "252   2024-12-30  10408.000000  10482.000000  10360.000000  10450.000000   \n",
       "253   2024-12-31  10468.000000  10470.000000  10319.423828  10334.000000   \n",
       "\n",
       "Price   Volume       Symbol  \n",
       "0      1688733  AstraZeneca  \n",
       "1      2972338  AstraZeneca  \n",
       "2      1896074  AstraZeneca  \n",
       "3      1161094  AstraZeneca  \n",
       "4      1921363  AstraZeneca  \n",
       "..         ...          ...  \n",
       "249    2737381  AstraZeneca  \n",
       "250     754282  AstraZeneca  \n",
       "251    1126432  AstraZeneca  \n",
       "252     812636  AstraZeneca  \n",
       "253     377953  AstraZeneca  \n",
       "\n",
       "[254 rows x 7 columns]"
      ]
     },
     "execution_count": 9,
     "metadata": {},
     "output_type": "execute_result"
    }
   ],
   "source": [
    "AZN"
   ]
  },
  {
   "cell_type": "code",
   "execution_count": 7,
   "id": "b02fe143-7c29-48f1-8fa5-10aeba74b56e",
   "metadata": {},
   "outputs": [
    {
     "name": "stderr",
     "output_type": "stream",
     "text": [
      "[*********************100%***********************]  1 of 1 completed\n"
     ]
    }
   ],
   "source": [
    "SHELL = yf.download(\"SHEL.L\",start = s ,end= e)\n",
    "SHELL['Symbol'] = 'Shell'\n",
    "SHELL.columns = SHELL.columns.get_level_values(0)\n",
    "SHELL = SHELL.reset_index()"
   ]
  },
  {
   "cell_type": "code",
   "execution_count": 8,
   "id": "9f9ea989-ad1c-4bd3-a6d4-12cb2632b7ea",
   "metadata": {},
   "outputs": [
    {
     "data": {
      "text/html": [
       "<div>\n",
       "<style scoped>\n",
       "    .dataframe tbody tr th:only-of-type {\n",
       "        vertical-align: middle;\n",
       "    }\n",
       "\n",
       "    .dataframe tbody tr th {\n",
       "        vertical-align: top;\n",
       "    }\n",
       "\n",
       "    .dataframe thead th {\n",
       "        text-align: right;\n",
       "    }\n",
       "</style>\n",
       "<table border=\"1\" class=\"dataframe\">\n",
       "  <thead>\n",
       "    <tr style=\"text-align: right;\">\n",
       "      <th>Price</th>\n",
       "      <th>Date</th>\n",
       "      <th>Close</th>\n",
       "      <th>High</th>\n",
       "      <th>Low</th>\n",
       "      <th>Open</th>\n",
       "      <th>Volume</th>\n",
       "      <th>Symbol</th>\n",
       "    </tr>\n",
       "  </thead>\n",
       "  <tbody>\n",
       "    <tr>\n",
       "      <th>0</th>\n",
       "      <td>2024-01-02</td>\n",
       "      <td>2496.818604</td>\n",
       "      <td>2515.238154</td>\n",
       "      <td>2484.215753</td>\n",
       "      <td>2503.120029</td>\n",
       "      <td>8129974</td>\n",
       "      <td>Shell</td>\n",
       "    </tr>\n",
       "    <tr>\n",
       "      <th>1</th>\n",
       "      <td>2024-01-03</td>\n",
       "      <td>2513.784180</td>\n",
       "      <td>2521.055056</td>\n",
       "      <td>2476.460350</td>\n",
       "      <td>2493.910452</td>\n",
       "      <td>13649356</td>\n",
       "      <td>Shell</td>\n",
       "    </tr>\n",
       "    <tr>\n",
       "      <th>2</th>\n",
       "      <td>2024-01-04</td>\n",
       "      <td>2515.238281</td>\n",
       "      <td>2551.592660</td>\n",
       "      <td>2515.238281</td>\n",
       "      <td>2530.264758</td>\n",
       "      <td>11815892</td>\n",
       "      <td>Shell</td>\n",
       "    </tr>\n",
       "    <tr>\n",
       "      <th>3</th>\n",
       "      <td>2024-01-05</td>\n",
       "      <td>2492.456299</td>\n",
       "      <td>2519.116178</td>\n",
       "      <td>2487.609048</td>\n",
       "      <td>2498.273000</td>\n",
       "      <td>20044598</td>\n",
       "      <td>Shell</td>\n",
       "    </tr>\n",
       "    <tr>\n",
       "      <th>4</th>\n",
       "      <td>2024-01-08</td>\n",
       "      <td>2414.900146</td>\n",
       "      <td>2466.281001</td>\n",
       "      <td>2412.476521</td>\n",
       "      <td>2465.796276</td>\n",
       "      <td>23073449</td>\n",
       "      <td>Shell</td>\n",
       "    </tr>\n",
       "    <tr>\n",
       "      <th>...</th>\n",
       "      <td>...</td>\n",
       "      <td>...</td>\n",
       "      <td>...</td>\n",
       "      <td>...</td>\n",
       "      <td>...</td>\n",
       "      <td>...</td>\n",
       "      <td>...</td>\n",
       "    </tr>\n",
       "    <tr>\n",
       "      <th>249</th>\n",
       "      <td>2024-12-23</td>\n",
       "      <td>2409.000000</td>\n",
       "      <td>2410.000000</td>\n",
       "      <td>2387.000000</td>\n",
       "      <td>2396.000000</td>\n",
       "      <td>6564724</td>\n",
       "      <td>Shell</td>\n",
       "    </tr>\n",
       "    <tr>\n",
       "      <th>250</th>\n",
       "      <td>2024-12-24</td>\n",
       "      <td>2429.000000</td>\n",
       "      <td>2437.219971</td>\n",
       "      <td>2419.000000</td>\n",
       "      <td>2419.500000</td>\n",
       "      <td>3634589</td>\n",
       "      <td>Shell</td>\n",
       "    </tr>\n",
       "    <tr>\n",
       "      <th>251</th>\n",
       "      <td>2024-12-27</td>\n",
       "      <td>2440.500000</td>\n",
       "      <td>2448.500000</td>\n",
       "      <td>2421.500000</td>\n",
       "      <td>2425.000000</td>\n",
       "      <td>5924098</td>\n",
       "      <td>Shell</td>\n",
       "    </tr>\n",
       "    <tr>\n",
       "      <th>252</th>\n",
       "      <td>2024-12-30</td>\n",
       "      <td>2442.000000</td>\n",
       "      <td>2449.139893</td>\n",
       "      <td>2426.000000</td>\n",
       "      <td>2429.000000</td>\n",
       "      <td>5181790</td>\n",
       "      <td>Shell</td>\n",
       "    </tr>\n",
       "    <tr>\n",
       "      <th>253</th>\n",
       "      <td>2024-12-31</td>\n",
       "      <td>2476.000000</td>\n",
       "      <td>2484.500000</td>\n",
       "      <td>2440.500000</td>\n",
       "      <td>2440.500000</td>\n",
       "      <td>3092232</td>\n",
       "      <td>Shell</td>\n",
       "    </tr>\n",
       "  </tbody>\n",
       "</table>\n",
       "<p>254 rows × 7 columns</p>\n",
       "</div>"
      ],
      "text/plain": [
       "Price       Date        Close         High          Low         Open  \\\n",
       "0     2024-01-02  2496.818604  2515.238154  2484.215753  2503.120029   \n",
       "1     2024-01-03  2513.784180  2521.055056  2476.460350  2493.910452   \n",
       "2     2024-01-04  2515.238281  2551.592660  2515.238281  2530.264758   \n",
       "3     2024-01-05  2492.456299  2519.116178  2487.609048  2498.273000   \n",
       "4     2024-01-08  2414.900146  2466.281001  2412.476521  2465.796276   \n",
       "..           ...          ...          ...          ...          ...   \n",
       "249   2024-12-23  2409.000000  2410.000000  2387.000000  2396.000000   \n",
       "250   2024-12-24  2429.000000  2437.219971  2419.000000  2419.500000   \n",
       "251   2024-12-27  2440.500000  2448.500000  2421.500000  2425.000000   \n",
       "252   2024-12-30  2442.000000  2449.139893  2426.000000  2429.000000   \n",
       "253   2024-12-31  2476.000000  2484.500000  2440.500000  2440.500000   \n",
       "\n",
       "Price    Volume Symbol  \n",
       "0       8129974  Shell  \n",
       "1      13649356  Shell  \n",
       "2      11815892  Shell  \n",
       "3      20044598  Shell  \n",
       "4      23073449  Shell  \n",
       "..          ...    ...  \n",
       "249     6564724  Shell  \n",
       "250     3634589  Shell  \n",
       "251     5924098  Shell  \n",
       "252     5181790  Shell  \n",
       "253     3092232  Shell  \n",
       "\n",
       "[254 rows x 7 columns]"
      ]
     },
     "execution_count": 8,
     "metadata": {},
     "output_type": "execute_result"
    }
   ],
   "source": [
    "SHELL"
   ]
  },
  {
   "cell_type": "code",
   "execution_count": 10,
   "id": "00f2ab47-9e18-4c54-86ec-4aa9aedcf8a3",
   "metadata": {},
   "outputs": [
    {
     "name": "stderr",
     "output_type": "stream",
     "text": [
      "[*********************100%***********************]  1 of 1 completed\n"
     ]
    }
   ],
   "source": [
    "HSBC = yf.download(\"HSBA.L\",start=s,end=e)\n",
    "HSBC['Symbol'] = 'HSBC'\n",
    "HSBC.columns = HSBC.columns.get_level_values(0)\n",
    "HSBC = HSBC.reset_index()"
   ]
  },
  {
   "cell_type": "code",
   "execution_count": 11,
   "id": "c9714620-fce3-4a77-a67b-7a45eee27fd7",
   "metadata": {},
   "outputs": [
    {
     "name": "stderr",
     "output_type": "stream",
     "text": [
      "[*********************100%***********************]  1 of 1 completed\n"
     ]
    }
   ],
   "source": [
    "UNI = yf.download('ULVR.L',start = s ,end = e)\n",
    "UNI['Symbol'] = 'UNILEVER'\n",
    "UNI.columns = UNI.columns.get_level_values(0)\n",
    "UNI = UNI.reset_index()"
   ]
  },
  {
   "cell_type": "code",
   "execution_count": 12,
   "id": "ef74f136-e563-4e8d-a170-45ea3b105696",
   "metadata": {},
   "outputs": [
    {
     "name": "stderr",
     "output_type": "stream",
     "text": [
      "[*********************100%***********************]  1 of 1 completed\n"
     ]
    }
   ],
   "source": [
    "rio = yf.download('RIO.L',start = s , end = e)\n",
    "rio['Symbol'] = 'RIO_Tinto'\n",
    "rio.columns = rio.columns.get_level_values(0)\n",
    "rio = rio.reset_index()"
   ]
  },
  {
   "cell_type": "code",
   "execution_count": 13,
   "id": "7d801fb0-def7-4814-8d81-418d75eface9",
   "metadata": {},
   "outputs": [
    {
     "name": "stderr",
     "output_type": "stream",
     "text": [
      "[*********************100%***********************]  1 of 1 completed\n"
     ]
    }
   ],
   "source": [
    "BP = yf.download('BP.L',start = s , end = e)\n",
    "BP['Symbol'] = 'BP_plc'\n",
    "BP.columns = BP.columns.get_level_values(0)\n",
    "BP = BP.reset_index()"
   ]
  },
  {
   "cell_type": "code",
   "execution_count": 14,
   "id": "982867e0-1f88-4580-a73f-4d8aaadee47f",
   "metadata": {},
   "outputs": [
    {
     "name": "stderr",
     "output_type": "stream",
     "text": [
      "[*********************100%***********************]  1 of 1 completed\n"
     ]
    }
   ],
   "source": [
    "RELX = yf.download('REL.L',start=s,end=e)\n",
    "RELX['Symbol'] = 'RELX_plc'\n",
    "RELX.columns = RELX.columns.get_level_values(0)\n",
    "RELX = RELX.reset_index()"
   ]
  },
  {
   "cell_type": "code",
   "execution_count": 15,
   "id": "e5f8844a-fca8-4bd1-8939-95caf1882116",
   "metadata": {},
   "outputs": [
    {
     "name": "stderr",
     "output_type": "stream",
     "text": [
      "[*********************100%***********************]  1 of 1 completed\n"
     ]
    }
   ],
   "source": [
    "GSK = yf.download('GSK.L',start = s , end = e)\n",
    "GSK['Symbol'] = 'GlaxoSmithKline'\n",
    "GSK.columns = GSK.columns.get_level_values(0)\n",
    "GSK = GSK.reset_index()"
   ]
  },
  {
   "cell_type": "code",
   "execution_count": 16,
   "id": "1169257d-d509-48cc-a640-714a9ddf72f5",
   "metadata": {},
   "outputs": [
    {
     "name": "stderr",
     "output_type": "stream",
     "text": [
      "[*********************100%***********************]  1 of 1 completed\n"
     ]
    }
   ],
   "source": [
    "GLEN = yf.download('GLEN.L',start= s , end = e)\n",
    "GLEN['Symbol'] = 'Glencore'\n",
    "GLEN.columns = GLEN.columns.get_level_values(0)\n",
    "GLEN = GLEN.reset_index()"
   ]
  },
  {
   "cell_type": "code",
   "execution_count": 17,
   "id": "51a2db3f-9567-4082-9b34-40d7cc55c6f4",
   "metadata": {},
   "outputs": [
    {
     "name": "stderr",
     "output_type": "stream",
     "text": [
      "[*********************100%***********************]  1 of 1 completed\n"
     ]
    }
   ],
   "source": [
    "DGE = yf.download(\"DGE.L\",start=s,end=e)\n",
    "DGE['Symbol'] = 'Diageo'\n",
    "DGE.columns = DGE.columns.get_level_values(0)\n",
    "DGE = DGE.reset_index()"
   ]
  },
  {
   "cell_type": "code",
   "execution_count": 20,
   "id": "6f3487d4-552b-4f7b-af64-928df1b9872a",
   "metadata": {},
   "outputs": [],
   "source": [
    "top_10_london = pd.concat([AZN,SHELL,HSBC,UNI,rio,BP,RELX,GSK,GLEN,DGE],axis=0)"
   ]
  },
  {
   "cell_type": "code",
   "execution_count": 23,
   "id": "54971d54-cfa4-4629-bf6e-a4668a8cadb9",
   "metadata": {},
   "outputs": [
    {
     "data": {
      "text/plain": [
       "(2538, 7)"
      ]
     },
     "execution_count": 23,
     "metadata": {},
     "output_type": "execute_result"
    }
   ],
   "source": [
    "top_10_london.shape"
   ]
  },
  {
   "cell_type": "code",
   "execution_count": 24,
   "id": "ada87907-da18-42ab-acec-f9297b2d0ca4",
   "metadata": {},
   "outputs": [
    {
     "data": {
      "text/plain": [
       "(254, 7)"
      ]
     },
     "execution_count": 24,
     "metadata": {},
     "output_type": "execute_result"
    }
   ],
   "source": [
    "AZN.shape"
   ]
  },
  {
   "cell_type": "code",
   "execution_count": 25,
   "id": "66bd5ce7-3410-4ca4-b303-7521d1b1cc8d",
   "metadata": {
    "scrolled": true
   },
   "outputs": [
    {
     "data": {
      "text/plain": [
       "Price\n",
       "Date      0\n",
       "Close     0\n",
       "High      0\n",
       "Low       0\n",
       "Open      0\n",
       "Volume    0\n",
       "Symbol    0\n",
       "dtype: int64"
      ]
     },
     "execution_count": 25,
     "metadata": {},
     "output_type": "execute_result"
    }
   ],
   "source": [
    "top_10_london.isna().sum()"
   ]
  },
  {
   "cell_type": "code",
   "execution_count": 26,
   "id": "1077ec66-fe93-4793-a46f-0aee610c3440",
   "metadata": {
    "scrolled": true
   },
   "outputs": [
    {
     "data": {
      "text/plain": [
       "Price\n",
       "Date      datetime64[ns]\n",
       "Close            float64\n",
       "High             float64\n",
       "Low              float64\n",
       "Open             float64\n",
       "Volume             int64\n",
       "Symbol            object\n",
       "dtype: object"
      ]
     },
     "execution_count": 26,
     "metadata": {},
     "output_type": "execute_result"
    }
   ],
   "source": [
    "top_10_london.dtypes"
   ]
  },
  {
   "cell_type": "code",
   "execution_count": 33,
   "id": "cedf18c6-89a9-4b80-9e57-bb0c0aa63150",
   "metadata": {},
   "outputs": [],
   "source": [
    "top_10_london_1 = pd.get_dummies(data=top_10_london,columns=['Date'])"
   ]
  },
  {
   "cell_type": "code",
   "execution_count": null,
   "id": "5ca80126-4690-4389-868f-a2c8520c539e",
   "metadata": {},
   "outputs": [],
   "source": []
  },
  {
   "cell_type": "code",
   "execution_count": 27,
   "id": "40417e33-01c9-4218-b168-81018454c819",
   "metadata": {},
   "outputs": [],
   "source": [
    "top_10_Integer = top_10_london.select_dtypes(include=['number'])"
   ]
  },
  {
   "cell_type": "code",
   "execution_count": 28,
   "id": "4a5ce6d2-ba73-4f60-9f8b-d87ad1d27719",
   "metadata": {},
   "outputs": [
    {
     "data": {
      "text/html": [
       "<div>\n",
       "<style scoped>\n",
       "    .dataframe tbody tr th:only-of-type {\n",
       "        vertical-align: middle;\n",
       "    }\n",
       "\n",
       "    .dataframe tbody tr th {\n",
       "        vertical-align: top;\n",
       "    }\n",
       "\n",
       "    .dataframe thead th {\n",
       "        text-align: right;\n",
       "    }\n",
       "</style>\n",
       "<table border=\"1\" class=\"dataframe\">\n",
       "  <thead>\n",
       "    <tr style=\"text-align: right;\">\n",
       "      <th>Price</th>\n",
       "      <th>Close</th>\n",
       "      <th>High</th>\n",
       "      <th>Low</th>\n",
       "      <th>Open</th>\n",
       "      <th>Volume</th>\n",
       "    </tr>\n",
       "  </thead>\n",
       "  <tbody>\n",
       "    <tr>\n",
       "      <th>0</th>\n",
       "      <td>10556.455078</td>\n",
       "      <td>10605.381918</td>\n",
       "      <td>10307.906729</td>\n",
       "      <td>10403.803336</td>\n",
       "      <td>1688733</td>\n",
       "    </tr>\n",
       "    <tr>\n",
       "      <th>1</th>\n",
       "      <td>10509.485352</td>\n",
       "      <td>10577.982928</td>\n",
       "      <td>10397.932155</td>\n",
       "      <td>10456.644364</td>\n",
       "      <td>2972338</td>\n",
       "    </tr>\n",
       "    <tr>\n",
       "      <th>2</th>\n",
       "      <td>10630.824219</td>\n",
       "      <td>10668.008619</td>\n",
       "      <td>10515.356872</td>\n",
       "      <td>10536.884682</td>\n",
       "      <td>1896074</td>\n",
       "    </tr>\n",
       "    <tr>\n",
       "      <th>3</th>\n",
       "      <td>10527.099609</td>\n",
       "      <td>10609.296706</td>\n",
       "      <td>10484.043987</td>\n",
       "      <td>10525.142536</td>\n",
       "      <td>1161094</td>\n",
       "    </tr>\n",
       "    <tr>\n",
       "      <th>4</th>\n",
       "      <td>10540.798828</td>\n",
       "      <td>10540.798828</td>\n",
       "      <td>10446.859292</td>\n",
       "      <td>10486.000765</td>\n",
       "      <td>1921363</td>\n",
       "    </tr>\n",
       "    <tr>\n",
       "      <th>...</th>\n",
       "      <td>...</td>\n",
       "      <td>...</td>\n",
       "      <td>...</td>\n",
       "      <td>...</td>\n",
       "      <td>...</td>\n",
       "    </tr>\n",
       "    <tr>\n",
       "      <th>248</th>\n",
       "      <td>2493.500000</td>\n",
       "      <td>2506.500000</td>\n",
       "      <td>2483.500000</td>\n",
       "      <td>2491.500000</td>\n",
       "      <td>1660817</td>\n",
       "    </tr>\n",
       "    <tr>\n",
       "      <th>249</th>\n",
       "      <td>2497.500000</td>\n",
       "      <td>2515.000000</td>\n",
       "      <td>2493.000000</td>\n",
       "      <td>2501.000000</td>\n",
       "      <td>730715</td>\n",
       "    </tr>\n",
       "    <tr>\n",
       "      <th>250</th>\n",
       "      <td>2535.000000</td>\n",
       "      <td>2536.500000</td>\n",
       "      <td>2498.000000</td>\n",
       "      <td>2512.500000</td>\n",
       "      <td>1772645</td>\n",
       "    </tr>\n",
       "    <tr>\n",
       "      <th>251</th>\n",
       "      <td>2514.000000</td>\n",
       "      <td>2540.500000</td>\n",
       "      <td>2507.000000</td>\n",
       "      <td>2519.500000</td>\n",
       "      <td>1980687</td>\n",
       "    </tr>\n",
       "    <tr>\n",
       "      <th>252</th>\n",
       "      <td>2537.500000</td>\n",
       "      <td>2537.500000</td>\n",
       "      <td>2511.500000</td>\n",
       "      <td>2515.000000</td>\n",
       "      <td>911353</td>\n",
       "    </tr>\n",
       "  </tbody>\n",
       "</table>\n",
       "<p>2538 rows × 5 columns</p>\n",
       "</div>"
      ],
      "text/plain": [
       "Price         Close          High           Low          Open   Volume\n",
       "0      10556.455078  10605.381918  10307.906729  10403.803336  1688733\n",
       "1      10509.485352  10577.982928  10397.932155  10456.644364  2972338\n",
       "2      10630.824219  10668.008619  10515.356872  10536.884682  1896074\n",
       "3      10527.099609  10609.296706  10484.043987  10525.142536  1161094\n",
       "4      10540.798828  10540.798828  10446.859292  10486.000765  1921363\n",
       "..              ...           ...           ...           ...      ...\n",
       "248     2493.500000   2506.500000   2483.500000   2491.500000  1660817\n",
       "249     2497.500000   2515.000000   2493.000000   2501.000000   730715\n",
       "250     2535.000000   2536.500000   2498.000000   2512.500000  1772645\n",
       "251     2514.000000   2540.500000   2507.000000   2519.500000  1980687\n",
       "252     2537.500000   2537.500000   2511.500000   2515.000000   911353\n",
       "\n",
       "[2538 rows x 5 columns]"
      ]
     },
     "execution_count": 28,
     "metadata": {},
     "output_type": "execute_result"
    }
   ],
   "source": [
    "top_10_Integer"
   ]
  },
  {
   "cell_type": "code",
   "execution_count": 30,
   "id": "30c4e410-9c2c-484c-a353-dcab725b1b0b",
   "metadata": {},
   "outputs": [
    {
     "data": {
      "text/html": [
       "<div>\n",
       "<style scoped>\n",
       "    .dataframe tbody tr th:only-of-type {\n",
       "        vertical-align: middle;\n",
       "    }\n",
       "\n",
       "    .dataframe tbody tr th {\n",
       "        vertical-align: top;\n",
       "    }\n",
       "\n",
       "    .dataframe thead th {\n",
       "        text-align: right;\n",
       "    }\n",
       "</style>\n",
       "<table border=\"1\" class=\"dataframe\">\n",
       "  <thead>\n",
       "    <tr style=\"text-align: right;\">\n",
       "      <th>Price</th>\n",
       "      <th>Close</th>\n",
       "      <th>High</th>\n",
       "      <th>Low</th>\n",
       "      <th>Open</th>\n",
       "      <th>Volume</th>\n",
       "    </tr>\n",
       "    <tr>\n",
       "      <th>Price</th>\n",
       "      <th></th>\n",
       "      <th></th>\n",
       "      <th></th>\n",
       "      <th></th>\n",
       "      <th></th>\n",
       "    </tr>\n",
       "  </thead>\n",
       "  <tbody>\n",
       "    <tr>\n",
       "      <th>Close</th>\n",
       "      <td>1.000000</td>\n",
       "      <td>0.999920</td>\n",
       "      <td>0.999947</td>\n",
       "      <td>0.999879</td>\n",
       "      <td>-0.502430</td>\n",
       "    </tr>\n",
       "    <tr>\n",
       "      <th>High</th>\n",
       "      <td>0.999920</td>\n",
       "      <td>1.000000</td>\n",
       "      <td>0.999900</td>\n",
       "      <td>0.999951</td>\n",
       "      <td>-0.502025</td>\n",
       "    </tr>\n",
       "    <tr>\n",
       "      <th>Low</th>\n",
       "      <td>0.999947</td>\n",
       "      <td>0.999900</td>\n",
       "      <td>1.000000</td>\n",
       "      <td>0.999906</td>\n",
       "      <td>-0.502826</td>\n",
       "    </tr>\n",
       "    <tr>\n",
       "      <th>Open</th>\n",
       "      <td>0.999879</td>\n",
       "      <td>0.999951</td>\n",
       "      <td>0.999906</td>\n",
       "      <td>1.000000</td>\n",
       "      <td>-0.502247</td>\n",
       "    </tr>\n",
       "    <tr>\n",
       "      <th>Volume</th>\n",
       "      <td>-0.502430</td>\n",
       "      <td>-0.502025</td>\n",
       "      <td>-0.502826</td>\n",
       "      <td>-0.502247</td>\n",
       "      <td>1.000000</td>\n",
       "    </tr>\n",
       "  </tbody>\n",
       "</table>\n",
       "</div>"
      ],
      "text/plain": [
       "Price      Close      High       Low      Open    Volume\n",
       "Price                                                   \n",
       "Close   1.000000  0.999920  0.999947  0.999879 -0.502430\n",
       "High    0.999920  1.000000  0.999900  0.999951 -0.502025\n",
       "Low     0.999947  0.999900  1.000000  0.999906 -0.502826\n",
       "Open    0.999879  0.999951  0.999906  1.000000 -0.502247\n",
       "Volume -0.502430 -0.502025 -0.502826 -0.502247  1.000000"
      ]
     },
     "execution_count": 30,
     "metadata": {},
     "output_type": "execute_result"
    }
   ],
   "source": [
    "corr = top_10_Integer.corr()\n",
    "corr"
   ]
  },
  {
   "cell_type": "code",
   "execution_count": 38,
   "id": "04a129b2-06d0-4ee7-b8f5-e31b81310cde",
   "metadata": {},
   "outputs": [],
   "source": [
    "x = top_10_Integer.drop('Close',axis=1).values"
   ]
  },
  {
   "cell_type": "code",
   "execution_count": 39,
   "id": "67d4b276-7df3-44fd-ac72-264b10dab0e3",
   "metadata": {},
   "outputs": [],
   "source": [
    "y = top_10_Integer['Close'].values"
   ]
  },
  {
   "cell_type": "code",
   "execution_count": 40,
   "id": "f98d329d-7a93-4b2d-91a5-73c03560f3a0",
   "metadata": {},
   "outputs": [],
   "source": [
    "x_train,x_test,y_train,y_test = train_test_split(x,y,test_size=0.2)"
   ]
  },
  {
   "cell_type": "code",
   "execution_count": 41,
   "id": "2e08c201-61fa-43c0-aa64-ac028c5c5272",
   "metadata": {},
   "outputs": [
    {
     "data": {
      "text/plain": [
       "(2030, 4)"
      ]
     },
     "execution_count": 41,
     "metadata": {},
     "output_type": "execute_result"
    }
   ],
   "source": [
    "x_train.shape"
   ]
  },
  {
   "cell_type": "code",
   "execution_count": 42,
   "id": "3fd03d88-c54b-4161-990b-4f93d0ade706",
   "metadata": {},
   "outputs": [
    {
     "data": {
      "text/plain": [
       "(508, 4)"
      ]
     },
     "execution_count": 42,
     "metadata": {},
     "output_type": "execute_result"
    }
   ],
   "source": [
    "x_test.shape"
   ]
  },
  {
   "cell_type": "code",
   "execution_count": 43,
   "id": "e45b43c0-950c-4a54-9fd7-b048f4f0765c",
   "metadata": {},
   "outputs": [],
   "source": [
    "model = LinearRegression()"
   ]
  },
  {
   "cell_type": "code",
   "execution_count": 44,
   "id": "ffa01f61-ee07-43ca-aea5-e5fc1f9a8166",
   "metadata": {},
   "outputs": [
    {
     "data": {
      "text/html": [
       "<style>#sk-container-id-1 {\n",
       "  /* Definition of color scheme common for light and dark mode */\n",
       "  --sklearn-color-text: black;\n",
       "  --sklearn-color-line: gray;\n",
       "  /* Definition of color scheme for unfitted estimators */\n",
       "  --sklearn-color-unfitted-level-0: #fff5e6;\n",
       "  --sklearn-color-unfitted-level-1: #f6e4d2;\n",
       "  --sklearn-color-unfitted-level-2: #ffe0b3;\n",
       "  --sklearn-color-unfitted-level-3: chocolate;\n",
       "  /* Definition of color scheme for fitted estimators */\n",
       "  --sklearn-color-fitted-level-0: #f0f8ff;\n",
       "  --sklearn-color-fitted-level-1: #d4ebff;\n",
       "  --sklearn-color-fitted-level-2: #b3dbfd;\n",
       "  --sklearn-color-fitted-level-3: cornflowerblue;\n",
       "\n",
       "  /* Specific color for light theme */\n",
       "  --sklearn-color-text-on-default-background: var(--sg-text-color, var(--theme-code-foreground, var(--jp-content-font-color1, black)));\n",
       "  --sklearn-color-background: var(--sg-background-color, var(--theme-background, var(--jp-layout-color0, white)));\n",
       "  --sklearn-color-border-box: var(--sg-text-color, var(--theme-code-foreground, var(--jp-content-font-color1, black)));\n",
       "  --sklearn-color-icon: #696969;\n",
       "\n",
       "  @media (prefers-color-scheme: dark) {\n",
       "    /* Redefinition of color scheme for dark theme */\n",
       "    --sklearn-color-text-on-default-background: var(--sg-text-color, var(--theme-code-foreground, var(--jp-content-font-color1, white)));\n",
       "    --sklearn-color-background: var(--sg-background-color, var(--theme-background, var(--jp-layout-color0, #111)));\n",
       "    --sklearn-color-border-box: var(--sg-text-color, var(--theme-code-foreground, var(--jp-content-font-color1, white)));\n",
       "    --sklearn-color-icon: #878787;\n",
       "  }\n",
       "}\n",
       "\n",
       "#sk-container-id-1 {\n",
       "  color: var(--sklearn-color-text);\n",
       "}\n",
       "\n",
       "#sk-container-id-1 pre {\n",
       "  padding: 0;\n",
       "}\n",
       "\n",
       "#sk-container-id-1 input.sk-hidden--visually {\n",
       "  border: 0;\n",
       "  clip: rect(1px 1px 1px 1px);\n",
       "  clip: rect(1px, 1px, 1px, 1px);\n",
       "  height: 1px;\n",
       "  margin: -1px;\n",
       "  overflow: hidden;\n",
       "  padding: 0;\n",
       "  position: absolute;\n",
       "  width: 1px;\n",
       "}\n",
       "\n",
       "#sk-container-id-1 div.sk-dashed-wrapped {\n",
       "  border: 1px dashed var(--sklearn-color-line);\n",
       "  margin: 0 0.4em 0.5em 0.4em;\n",
       "  box-sizing: border-box;\n",
       "  padding-bottom: 0.4em;\n",
       "  background-color: var(--sklearn-color-background);\n",
       "}\n",
       "\n",
       "#sk-container-id-1 div.sk-container {\n",
       "  /* jupyter's `normalize.less` sets `[hidden] { display: none; }`\n",
       "     but bootstrap.min.css set `[hidden] { display: none !important; }`\n",
       "     so we also need the `!important` here to be able to override the\n",
       "     default hidden behavior on the sphinx rendered scikit-learn.org.\n",
       "     See: https://github.com/scikit-learn/scikit-learn/issues/21755 */\n",
       "  display: inline-block !important;\n",
       "  position: relative;\n",
       "}\n",
       "\n",
       "#sk-container-id-1 div.sk-text-repr-fallback {\n",
       "  display: none;\n",
       "}\n",
       "\n",
       "div.sk-parallel-item,\n",
       "div.sk-serial,\n",
       "div.sk-item {\n",
       "  /* draw centered vertical line to link estimators */\n",
       "  background-image: linear-gradient(var(--sklearn-color-text-on-default-background), var(--sklearn-color-text-on-default-background));\n",
       "  background-size: 2px 100%;\n",
       "  background-repeat: no-repeat;\n",
       "  background-position: center center;\n",
       "}\n",
       "\n",
       "/* Parallel-specific style estimator block */\n",
       "\n",
       "#sk-container-id-1 div.sk-parallel-item::after {\n",
       "  content: \"\";\n",
       "  width: 100%;\n",
       "  border-bottom: 2px solid var(--sklearn-color-text-on-default-background);\n",
       "  flex-grow: 1;\n",
       "}\n",
       "\n",
       "#sk-container-id-1 div.sk-parallel {\n",
       "  display: flex;\n",
       "  align-items: stretch;\n",
       "  justify-content: center;\n",
       "  background-color: var(--sklearn-color-background);\n",
       "  position: relative;\n",
       "}\n",
       "\n",
       "#sk-container-id-1 div.sk-parallel-item {\n",
       "  display: flex;\n",
       "  flex-direction: column;\n",
       "}\n",
       "\n",
       "#sk-container-id-1 div.sk-parallel-item:first-child::after {\n",
       "  align-self: flex-end;\n",
       "  width: 50%;\n",
       "}\n",
       "\n",
       "#sk-container-id-1 div.sk-parallel-item:last-child::after {\n",
       "  align-self: flex-start;\n",
       "  width: 50%;\n",
       "}\n",
       "\n",
       "#sk-container-id-1 div.sk-parallel-item:only-child::after {\n",
       "  width: 0;\n",
       "}\n",
       "\n",
       "/* Serial-specific style estimator block */\n",
       "\n",
       "#sk-container-id-1 div.sk-serial {\n",
       "  display: flex;\n",
       "  flex-direction: column;\n",
       "  align-items: center;\n",
       "  background-color: var(--sklearn-color-background);\n",
       "  padding-right: 1em;\n",
       "  padding-left: 1em;\n",
       "}\n",
       "\n",
       "\n",
       "/* Toggleable style: style used for estimator/Pipeline/ColumnTransformer box that is\n",
       "clickable and can be expanded/collapsed.\n",
       "- Pipeline and ColumnTransformer use this feature and define the default style\n",
       "- Estimators will overwrite some part of the style using the `sk-estimator` class\n",
       "*/\n",
       "\n",
       "/* Pipeline and ColumnTransformer style (default) */\n",
       "\n",
       "#sk-container-id-1 div.sk-toggleable {\n",
       "  /* Default theme specific background. It is overwritten whether we have a\n",
       "  specific estimator or a Pipeline/ColumnTransformer */\n",
       "  background-color: var(--sklearn-color-background);\n",
       "}\n",
       "\n",
       "/* Toggleable label */\n",
       "#sk-container-id-1 label.sk-toggleable__label {\n",
       "  cursor: pointer;\n",
       "  display: block;\n",
       "  width: 100%;\n",
       "  margin-bottom: 0;\n",
       "  padding: 0.5em;\n",
       "  box-sizing: border-box;\n",
       "  text-align: center;\n",
       "}\n",
       "\n",
       "#sk-container-id-1 label.sk-toggleable__label-arrow:before {\n",
       "  /* Arrow on the left of the label */\n",
       "  content: \"▸\";\n",
       "  float: left;\n",
       "  margin-right: 0.25em;\n",
       "  color: var(--sklearn-color-icon);\n",
       "}\n",
       "\n",
       "#sk-container-id-1 label.sk-toggleable__label-arrow:hover:before {\n",
       "  color: var(--sklearn-color-text);\n",
       "}\n",
       "\n",
       "/* Toggleable content - dropdown */\n",
       "\n",
       "#sk-container-id-1 div.sk-toggleable__content {\n",
       "  max-height: 0;\n",
       "  max-width: 0;\n",
       "  overflow: hidden;\n",
       "  text-align: left;\n",
       "  /* unfitted */\n",
       "  background-color: var(--sklearn-color-unfitted-level-0);\n",
       "}\n",
       "\n",
       "#sk-container-id-1 div.sk-toggleable__content.fitted {\n",
       "  /* fitted */\n",
       "  background-color: var(--sklearn-color-fitted-level-0);\n",
       "}\n",
       "\n",
       "#sk-container-id-1 div.sk-toggleable__content pre {\n",
       "  margin: 0.2em;\n",
       "  border-radius: 0.25em;\n",
       "  color: var(--sklearn-color-text);\n",
       "  /* unfitted */\n",
       "  background-color: var(--sklearn-color-unfitted-level-0);\n",
       "}\n",
       "\n",
       "#sk-container-id-1 div.sk-toggleable__content.fitted pre {\n",
       "  /* unfitted */\n",
       "  background-color: var(--sklearn-color-fitted-level-0);\n",
       "}\n",
       "\n",
       "#sk-container-id-1 input.sk-toggleable__control:checked~div.sk-toggleable__content {\n",
       "  /* Expand drop-down */\n",
       "  max-height: 200px;\n",
       "  max-width: 100%;\n",
       "  overflow: auto;\n",
       "}\n",
       "\n",
       "#sk-container-id-1 input.sk-toggleable__control:checked~label.sk-toggleable__label-arrow:before {\n",
       "  content: \"▾\";\n",
       "}\n",
       "\n",
       "/* Pipeline/ColumnTransformer-specific style */\n",
       "\n",
       "#sk-container-id-1 div.sk-label input.sk-toggleable__control:checked~label.sk-toggleable__label {\n",
       "  color: var(--sklearn-color-text);\n",
       "  background-color: var(--sklearn-color-unfitted-level-2);\n",
       "}\n",
       "\n",
       "#sk-container-id-1 div.sk-label.fitted input.sk-toggleable__control:checked~label.sk-toggleable__label {\n",
       "  background-color: var(--sklearn-color-fitted-level-2);\n",
       "}\n",
       "\n",
       "/* Estimator-specific style */\n",
       "\n",
       "/* Colorize estimator box */\n",
       "#sk-container-id-1 div.sk-estimator input.sk-toggleable__control:checked~label.sk-toggleable__label {\n",
       "  /* unfitted */\n",
       "  background-color: var(--sklearn-color-unfitted-level-2);\n",
       "}\n",
       "\n",
       "#sk-container-id-1 div.sk-estimator.fitted input.sk-toggleable__control:checked~label.sk-toggleable__label {\n",
       "  /* fitted */\n",
       "  background-color: var(--sklearn-color-fitted-level-2);\n",
       "}\n",
       "\n",
       "#sk-container-id-1 div.sk-label label.sk-toggleable__label,\n",
       "#sk-container-id-1 div.sk-label label {\n",
       "  /* The background is the default theme color */\n",
       "  color: var(--sklearn-color-text-on-default-background);\n",
       "}\n",
       "\n",
       "/* On hover, darken the color of the background */\n",
       "#sk-container-id-1 div.sk-label:hover label.sk-toggleable__label {\n",
       "  color: var(--sklearn-color-text);\n",
       "  background-color: var(--sklearn-color-unfitted-level-2);\n",
       "}\n",
       "\n",
       "/* Label box, darken color on hover, fitted */\n",
       "#sk-container-id-1 div.sk-label.fitted:hover label.sk-toggleable__label.fitted {\n",
       "  color: var(--sklearn-color-text);\n",
       "  background-color: var(--sklearn-color-fitted-level-2);\n",
       "}\n",
       "\n",
       "/* Estimator label */\n",
       "\n",
       "#sk-container-id-1 div.sk-label label {\n",
       "  font-family: monospace;\n",
       "  font-weight: bold;\n",
       "  display: inline-block;\n",
       "  line-height: 1.2em;\n",
       "}\n",
       "\n",
       "#sk-container-id-1 div.sk-label-container {\n",
       "  text-align: center;\n",
       "}\n",
       "\n",
       "/* Estimator-specific */\n",
       "#sk-container-id-1 div.sk-estimator {\n",
       "  font-family: monospace;\n",
       "  border: 1px dotted var(--sklearn-color-border-box);\n",
       "  border-radius: 0.25em;\n",
       "  box-sizing: border-box;\n",
       "  margin-bottom: 0.5em;\n",
       "  /* unfitted */\n",
       "  background-color: var(--sklearn-color-unfitted-level-0);\n",
       "}\n",
       "\n",
       "#sk-container-id-1 div.sk-estimator.fitted {\n",
       "  /* fitted */\n",
       "  background-color: var(--sklearn-color-fitted-level-0);\n",
       "}\n",
       "\n",
       "/* on hover */\n",
       "#sk-container-id-1 div.sk-estimator:hover {\n",
       "  /* unfitted */\n",
       "  background-color: var(--sklearn-color-unfitted-level-2);\n",
       "}\n",
       "\n",
       "#sk-container-id-1 div.sk-estimator.fitted:hover {\n",
       "  /* fitted */\n",
       "  background-color: var(--sklearn-color-fitted-level-2);\n",
       "}\n",
       "\n",
       "/* Specification for estimator info (e.g. \"i\" and \"?\") */\n",
       "\n",
       "/* Common style for \"i\" and \"?\" */\n",
       "\n",
       ".sk-estimator-doc-link,\n",
       "a:link.sk-estimator-doc-link,\n",
       "a:visited.sk-estimator-doc-link {\n",
       "  float: right;\n",
       "  font-size: smaller;\n",
       "  line-height: 1em;\n",
       "  font-family: monospace;\n",
       "  background-color: var(--sklearn-color-background);\n",
       "  border-radius: 1em;\n",
       "  height: 1em;\n",
       "  width: 1em;\n",
       "  text-decoration: none !important;\n",
       "  margin-left: 1ex;\n",
       "  /* unfitted */\n",
       "  border: var(--sklearn-color-unfitted-level-1) 1pt solid;\n",
       "  color: var(--sklearn-color-unfitted-level-1);\n",
       "}\n",
       "\n",
       ".sk-estimator-doc-link.fitted,\n",
       "a:link.sk-estimator-doc-link.fitted,\n",
       "a:visited.sk-estimator-doc-link.fitted {\n",
       "  /* fitted */\n",
       "  border: var(--sklearn-color-fitted-level-1) 1pt solid;\n",
       "  color: var(--sklearn-color-fitted-level-1);\n",
       "}\n",
       "\n",
       "/* On hover */\n",
       "div.sk-estimator:hover .sk-estimator-doc-link:hover,\n",
       ".sk-estimator-doc-link:hover,\n",
       "div.sk-label-container:hover .sk-estimator-doc-link:hover,\n",
       ".sk-estimator-doc-link:hover {\n",
       "  /* unfitted */\n",
       "  background-color: var(--sklearn-color-unfitted-level-3);\n",
       "  color: var(--sklearn-color-background);\n",
       "  text-decoration: none;\n",
       "}\n",
       "\n",
       "div.sk-estimator.fitted:hover .sk-estimator-doc-link.fitted:hover,\n",
       ".sk-estimator-doc-link.fitted:hover,\n",
       "div.sk-label-container:hover .sk-estimator-doc-link.fitted:hover,\n",
       ".sk-estimator-doc-link.fitted:hover {\n",
       "  /* fitted */\n",
       "  background-color: var(--sklearn-color-fitted-level-3);\n",
       "  color: var(--sklearn-color-background);\n",
       "  text-decoration: none;\n",
       "}\n",
       "\n",
       "/* Span, style for the box shown on hovering the info icon */\n",
       ".sk-estimator-doc-link span {\n",
       "  display: none;\n",
       "  z-index: 9999;\n",
       "  position: relative;\n",
       "  font-weight: normal;\n",
       "  right: .2ex;\n",
       "  padding: .5ex;\n",
       "  margin: .5ex;\n",
       "  width: min-content;\n",
       "  min-width: 20ex;\n",
       "  max-width: 50ex;\n",
       "  color: var(--sklearn-color-text);\n",
       "  box-shadow: 2pt 2pt 4pt #999;\n",
       "  /* unfitted */\n",
       "  background: var(--sklearn-color-unfitted-level-0);\n",
       "  border: .5pt solid var(--sklearn-color-unfitted-level-3);\n",
       "}\n",
       "\n",
       ".sk-estimator-doc-link.fitted span {\n",
       "  /* fitted */\n",
       "  background: var(--sklearn-color-fitted-level-0);\n",
       "  border: var(--sklearn-color-fitted-level-3);\n",
       "}\n",
       "\n",
       ".sk-estimator-doc-link:hover span {\n",
       "  display: block;\n",
       "}\n",
       "\n",
       "/* \"?\"-specific style due to the `<a>` HTML tag */\n",
       "\n",
       "#sk-container-id-1 a.estimator_doc_link {\n",
       "  float: right;\n",
       "  font-size: 1rem;\n",
       "  line-height: 1em;\n",
       "  font-family: monospace;\n",
       "  background-color: var(--sklearn-color-background);\n",
       "  border-radius: 1rem;\n",
       "  height: 1rem;\n",
       "  width: 1rem;\n",
       "  text-decoration: none;\n",
       "  /* unfitted */\n",
       "  color: var(--sklearn-color-unfitted-level-1);\n",
       "  border: var(--sklearn-color-unfitted-level-1) 1pt solid;\n",
       "}\n",
       "\n",
       "#sk-container-id-1 a.estimator_doc_link.fitted {\n",
       "  /* fitted */\n",
       "  border: var(--sklearn-color-fitted-level-1) 1pt solid;\n",
       "  color: var(--sklearn-color-fitted-level-1);\n",
       "}\n",
       "\n",
       "/* On hover */\n",
       "#sk-container-id-1 a.estimator_doc_link:hover {\n",
       "  /* unfitted */\n",
       "  background-color: var(--sklearn-color-unfitted-level-3);\n",
       "  color: var(--sklearn-color-background);\n",
       "  text-decoration: none;\n",
       "}\n",
       "\n",
       "#sk-container-id-1 a.estimator_doc_link.fitted:hover {\n",
       "  /* fitted */\n",
       "  background-color: var(--sklearn-color-fitted-level-3);\n",
       "}\n",
       "</style><div id=\"sk-container-id-1\" class=\"sk-top-container\"><div class=\"sk-text-repr-fallback\"><pre>LinearRegression()</pre><b>In a Jupyter environment, please rerun this cell to show the HTML representation or trust the notebook. <br />On GitHub, the HTML representation is unable to render, please try loading this page with nbviewer.org.</b></div><div class=\"sk-container\" hidden><div class=\"sk-item\"><div class=\"sk-estimator fitted sk-toggleable\"><input class=\"sk-toggleable__control sk-hidden--visually\" id=\"sk-estimator-id-1\" type=\"checkbox\" checked><label for=\"sk-estimator-id-1\" class=\"sk-toggleable__label fitted sk-toggleable__label-arrow fitted\">&nbsp;&nbsp;LinearRegression<a class=\"sk-estimator-doc-link fitted\" rel=\"noreferrer\" target=\"_blank\" href=\"https://scikit-learn.org/1.5/modules/generated/sklearn.linear_model.LinearRegression.html\">?<span>Documentation for LinearRegression</span></a><span class=\"sk-estimator-doc-link fitted\">i<span>Fitted</span></span></label><div class=\"sk-toggleable__content fitted\"><pre>LinearRegression()</pre></div> </div></div></div></div>"
      ],
      "text/plain": [
       "LinearRegression()"
      ]
     },
     "execution_count": 44,
     "metadata": {},
     "output_type": "execute_result"
    }
   ],
   "source": [
    "model.fit(x_train,y_train)"
   ]
  },
  {
   "cell_type": "code",
   "execution_count": 45,
   "id": "33c36a68-2041-461f-a6c2-5f8c8fa232df",
   "metadata": {},
   "outputs": [],
   "source": [
    "y_pred = model.predict(x_test)"
   ]
  },
  {
   "cell_type": "code",
   "execution_count": 46,
   "id": "e068eeef-0aaf-4738-ab84-4a4a741e2115",
   "metadata": {},
   "outputs": [],
   "source": [
    "r2 = r2_score(y_test,y_pred)"
   ]
  },
  {
   "cell_type": "code",
   "execution_count": 47,
   "id": "15f42619-bac5-438e-9420-4b0219ae0170",
   "metadata": {},
   "outputs": [
    {
     "data": {
      "text/plain": [
       "0.999948291197255"
      ]
     },
     "execution_count": 47,
     "metadata": {},
     "output_type": "execute_result"
    }
   ],
   "source": [
    "r2"
   ]
  },
  {
   "cell_type": "code",
   "execution_count": 48,
   "id": "36e38496-63c2-49d6-8b5a-cc9a208370f3",
   "metadata": {},
   "outputs": [
    {
     "data": {
      "text/plain": [
       "99.99482911972551"
      ]
     },
     "execution_count": 48,
     "metadata": {},
     "output_type": "execute_result"
    }
   ],
   "source": [
    "r2*100"
   ]
  },
  {
   "cell_type": "code",
   "execution_count": 49,
   "id": "c06e744e-d7d6-4b74-a45a-16d66355f06c",
   "metadata": {},
   "outputs": [],
   "source": [
    "top_10_london.to_csv('Top_10_London_Stocks.csv')"
   ]
  },
  {
   "cell_type": "code",
   "execution_count": null,
   "id": "2c4e958e-ee43-47ee-8e1a-9401ef294b8e",
   "metadata": {},
   "outputs": [],
   "source": []
  }
 ],
 "metadata": {
  "kernelspec": {
   "display_name": "Python 3 (ipykernel)",
   "language": "python",
   "name": "python3"
  },
  "language_info": {
   "codemirror_mode": {
    "name": "ipython",
    "version": 3
   },
   "file_extension": ".py",
   "mimetype": "text/x-python",
   "name": "python",
   "nbconvert_exporter": "python",
   "pygments_lexer": "ipython3",
   "version": "3.12.7"
  }
 },
 "nbformat": 4,
 "nbformat_minor": 5
}
